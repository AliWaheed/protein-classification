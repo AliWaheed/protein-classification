{
 "cells": [
  {
   "cell_type": "code",
   "execution_count": 1,
   "metadata": {},
   "outputs": [],
   "source": [
    "import pandas as pd\n",
    "import numpy as np\n",
    "import matplotlib.pyplot as plt\n",
    "\n",
    "from sklearn.svm import SVC \n",
    "from sklearn.metrics import accuracy_score\n",
    "from sklearn.model_selection import KFold\n",
    "from sklearn.neighbors import KNeighborsClassifier  as KNN\n",
    "from sklearn.ensemble import RandomForestClassifier\n",
    "from sklearn.naive_bayes import GaussianNB, MultinomialNB, BernoulliNB\n",
    "from sklearn.linear_model import LogisticRegression\n",
    "from sklearn.tree import DecisionTreeClassifier"
   ]
  },
  {
   "cell_type": "code",
   "execution_count": 2,
   "metadata": {},
   "outputs": [],
   "source": [
    "#instantiating object for KFold validation\n",
    "kf = KFold(10)\n",
    "\n",
    "#creating a list of classifiers\n",
    "list_classifiers = [\n",
    "    KNN(),\n",
    "    SVC(),\n",
    "    DecisionTreeClassifier(),\n",
    "    RandomForestClassifier(),\n",
    "    GaussianNB(),\n",
    "    MultinomialNB(),\n",
    "    BernoulliNB(),\n",
    "    LogisticRegression()]\n",
    "\n",
    "#creating a list of the name of classifiers\n",
    "name_classifiers = [\"KNN\", \"SVC\", \"DecisionTree\", \"RandomForest\",\n",
    "                    \"GaussianNB\", \"MultinomialNB\",\"BernoulliNB\",\n",
    "                    \"LogisticRegression\"]"
   ]
  },
  {
   "cell_type": "markdown",
   "metadata": {},
   "source": [
    "# 1. Feature Extraction Technique: AAC"
   ]
  },
  {
   "cell_type": "code",
   "execution_count": 3,
   "metadata": {},
   "outputs": [],
   "source": [
    "'''\n",
    "    DATA PRE-PROCESSING\n",
    "'''\n",
    "\n",
    "#reading the data\n",
    "df = pd.read_csv('data_aac.csv')\n",
    "\n",
    "#getting the column with fasta format labels\n",
    "label = df['negative|P01023|A2M']\n",
    "df = df.drop(['negative|P01023|A2M'], axis = 1)\n",
    "\n",
    "#converting the fasta format labels into '0' for negative and '1' for positive class\n",
    "label = list(label)\n",
    "count = 0\n",
    "for i in label:\n",
    "    \n",
    "    if 'negative' in i:\n",
    "        label[count] = '0'\n",
    "    else:\n",
    "        label[count] = '1'\n",
    "    \n",
    "    count+=1\n",
    "    \n",
    "headers = list()\n",
    "\n",
    "#creating a list of headers\n",
    "for i in range(20):\n",
    "    headers.append(i+1)\n",
    "    \n",
    "#appending the headers to the data    \n",
    "df.columns = headers\n",
    "\n",
    "#creating a new column of the transformed labels\n",
    "df['Labels'] = label"
   ]
  },
  {
   "cell_type": "code",
   "execution_count": 4,
   "metadata": {},
   "outputs": [],
   "source": [
    "target = df['Labels']\n",
    "df.drop(['Labels'], 1, inplace = True)"
   ]
  },
  {
   "cell_type": "code",
   "execution_count": 5,
   "metadata": {},
   "outputs": [
    {
     "data": {
      "image/png": "[encoded data removed]",
      "text/plain": [
       "<Figure size 432x288 with 2 Axes>"
      ]
     },
     "metadata": {
      "needs_background": "light"
     },
     "output_type": "display_data"
    }
   ],
   "source": [
    "correlation = df.corr()\n",
    "fig = plt.figure()\n",
    "ax = fig.add_subplot(111)\n",
    "cax = ax.matshow(correlation ,cmap='coolwarm', vmin=-1, vmax=1)\n",
    "fig.colorbar(cax)\n",
    "ticks = np.arange(0,len(df.columns),1)\n",
    "ax.set_xticks(ticks)\n",
    "plt.xticks(rotation=90)\n",
    "ax.set_yticks(ticks)\n",
    "ax.set_xticklabels(df.columns)\n",
    "ax.set_yticklabels(df.columns)\n",
    "plt.show()"
   ]
  },
  {
   "cell_type": "code",
   "execution_count": 6,
   "metadata": {},
   "outputs": [
    {
     "name": "stdout",
     "output_type": "stream",
     "text": [
      "KNN accuracy = 87.4\n",
      "SVC accuracy = 70.56\n",
      "DecisionTree accuracy = 71.9\n",
      "RandomForest accuracy = 78.57\n",
      "GaussianNB accuracy = 84.33\n",
      "MultinomialNB accuracy = 70.56\n",
      "BernoulliNB accuracy = 68.48\n",
      "LogisticRegression accuracy = 70.56\n"
     ]
    }
   ],
   "source": [
    "'''\n",
    "    K-FOLD CROSS VALIDATION\n",
    "'''\n",
    "count = 0\n",
    "for classifier in list_classifiers:\n",
    "    \n",
    "    acc_total = 0\n",
    "    \n",
    "    for train_index, test_index in kf.split(df):\n",
    "    \n",
    "        X_train = df.values[train_index]\n",
    "        Y_train = target[train_index]\n",
    "    \n",
    "        X_test = df.values[test_index]\n",
    "        Y_test = target[test_index]\n",
    "    \n",
    "        model_svm = classifier.fit(X_train,Y_train)\n",
    "    \n",
    "        predictions = model_svm.predict(X_test)\n",
    "    \n",
    "        acc = 100*accuracy_score(Y_test,predictions)\n",
    "    \n",
    "    \n",
    "        acc_total = acc_total + acc\n",
    "    \n",
    "    print('{} accuracy = {}'.format(name_classifiers[count], np.round(acc_total/10, 2)))\n",
    "    count += 1"
   ]
  },
  {
   "cell_type": "markdown",
   "metadata": {},
   "source": [
    "# 2. Feature Extraction Technique: CTDD"
   ]
  },
  {
   "cell_type": "code",
   "execution_count": 7,
   "metadata": {},
   "outputs": [],
   "source": [
    "df = pd.read_csv('data_ctdd.csv')\n",
    "\n",
    "label = df['positive|P02647|APO']\n",
    "\n",
    "df = df.drop(['positive|P02647|APO'], axis = 1)\n",
    "\n",
    "label = list(label)\n",
    "count = 0\n",
    "for i in label:\n",
    "    \n",
    "    if 'negative' in i:\n",
    "        label[count] = '0'\n",
    "    else:\n",
    "        label[count] = '1'\n",
    "    \n",
    "    count+=1\n",
    "    \n",
    "headers = list()\n",
    "for i in range(195):\n",
    "    headers.append(i+1)\n",
    "    \n",
    "df.columns = headers\n",
    "df['Labels'] = label"
   ]
  },
  {
   "cell_type": "code",
   "execution_count": 8,
   "metadata": {},
   "outputs": [],
   "source": [
    "target = df['Labels']\n",
    "df = df.drop(['Labels'], axis = 1)"
   ]
  },
  {
   "cell_type": "code",
   "execution_count": 9,
   "metadata": {},
   "outputs": [
    {
     "name": "stdout",
     "output_type": "stream",
     "text": [
      "KNN accuracy = 82.4\n",
      "SVC accuracy = 72.63\n",
      "DecisionTree accuracy = 74.47\n",
      "RandomForest accuracy = 85.73\n",
      "GaussianNB accuracy = 44.68\n",
      "MultinomialNB accuracy = 80.82\n",
      "BernoulliNB accuracy = 72.11\n",
      "LogisticRegression accuracy = 76.08\n"
     ]
    }
   ],
   "source": [
    "count = 0\n",
    "\n",
    "for classifier in list_classifiers:\n",
    "    \n",
    "    acc_total = 0\n",
    "    \n",
    "    for train_index, test_index in kf.split(df):\n",
    "    \n",
    "        X_train = df.values[train_index]\n",
    "        Y_train = target[train_index]\n",
    "    \n",
    "        X_test = df.values[test_index]\n",
    "        Y_test = target[test_index]\n",
    "    \n",
    "        model_svm = classifier.fit(X_train,Y_train)\n",
    "    \n",
    "        predictions = model_svm.predict(X_test)\n",
    "    \n",
    "        acc = 100*accuracy_score(Y_test,predictions)\n",
    "    \n",
    "        acc_total = acc_total + acc\n",
    "    \n",
    "    print('{} accuracy = {}'.format(name_classifiers[count], np.round(acc_total/10, 2)))\n",
    "    count += 1"
   ]
  },
  {
   "cell_type": "markdown",
   "metadata": {},
   "source": [
    "# 3. Feature Extraction Technique: GDPC"
   ]
  },
  {
   "cell_type": "code",
   "execution_count": 10,
   "metadata": {},
   "outputs": [],
   "source": [
    "df = pd.read_csv('data_gdpc.csv')"
   ]
  },
  {
   "cell_type": "code",
   "execution_count": 11,
   "metadata": {},
   "outputs": [],
   "source": [
    "label = df['positive|P02647|APO']\n",
    "\n",
    "df = df.drop(['positive|P02647|APO'], axis = 1)\n",
    "\n",
    "label = list(label)\n",
    "count = 0\n",
    "for i in label:\n",
    "    \n",
    "    if 'negative' in i:\n",
    "        label[count] = '0'\n",
    "    else:\n",
    "        label[count] = '1'\n",
    "    \n",
    "    count+=1\n",
    "    \n",
    "headers = list()\n",
    "for i in range(25):\n",
    "    headers.append(i+1)\n",
    "    \n",
    "df.columns = headers\n",
    "df['Labels'] = label"
   ]
  },
  {
   "cell_type": "code",
   "execution_count": 12,
   "metadata": {},
   "outputs": [],
   "source": [
    "target = df['Labels']\n",
    "df = df.drop(['Labels'], axis = 1)"
   ]
  },
  {
   "cell_type": "code",
   "execution_count": 13,
   "metadata": {},
   "outputs": [
    {
     "data": {
      "image/png": "[encoded data removed]",
      "text/plain": [
       "<Figure size 432x288 with 2 Axes>"
      ]
     },
     "metadata": {
      "needs_background": "light"
     },
     "output_type": "display_data"
    }
   ],
   "source": [
    "correlation = df.corr()\n",
    "fig = plt.figure()\n",
    "ax = fig.add_subplot(111)\n",
    "cax = ax.matshow(correlation ,cmap='coolwarm', vmin=-1, vmax=1)\n",
    "fig.colorbar(cax)\n",
    "ticks = np.arange(0,len(df.columns),1)\n",
    "ax.set_xticks(ticks)\n",
    "plt.xticks(rotation=90)\n",
    "ax.set_yticks(ticks)\n",
    "ax.set_xticklabels(df.columns)\n",
    "ax.set_yticklabels(df.columns)\n",
    "plt.show()"
   ]
  },
  {
   "cell_type": "code",
   "execution_count": 14,
   "metadata": {},
   "outputs": [
    {
     "name": "stdout",
     "output_type": "stream",
     "text": [
      "KNN accuracy = 85.73\n",
      "SVC accuracy = 72.63\n",
      "DecisionTree accuracy = 73.42\n",
      "RandomForest accuracy = 86.26\n",
      "GaussianNB accuracy = 81.93\n",
      "MultinomialNB accuracy = 72.63\n",
      "BernoulliNB accuracy = 72.63\n",
      "LogisticRegression accuracy = 72.63\n"
     ]
    }
   ],
   "source": [
    "count = 0\n",
    "\n",
    "for classifier in list_classifiers:\n",
    "    \n",
    "    acc_total = 0\n",
    "    \n",
    "    for train_index, test_index in kf.split(df):\n",
    "    \n",
    "        X_train = df.values[train_index]\n",
    "        Y_train = target[train_index]\n",
    "    \n",
    "        X_test = df.values[test_index]\n",
    "        Y_test = target[test_index]\n",
    "    \n",
    "        model_svm = classifier.fit(X_train,Y_train)\n",
    "    \n",
    "        predictions = model_svm.predict(X_test)\n",
    "    \n",
    "        acc = 100*accuracy_score(Y_test,predictions)\n",
    "    \n",
    "        acc_total = acc_total + acc\n",
    "    \n",
    "    print('{} accuracy = {}'.format(name_classifiers[count], np.round(acc_total/10, 2)))\n",
    "    count += 1"
   ]
  },
  {
   "cell_type": "markdown",
   "metadata": {},
   "source": [
    "# 4. Feature Extraction Technique: Polarity"
   ]
  },
  {
   "cell_type": "code",
   "execution_count": 15,
   "metadata": {},
   "outputs": [],
   "source": [
    "df = pd.read_csv('data_polarity.csv')"
   ]
  },
  {
   "cell_type": "code",
   "execution_count": 16,
   "metadata": {},
   "outputs": [],
   "source": [
    "label = df['positive|P02647|APO']\n",
    "\n",
    "df = df.drop(['positive|P02647|APO'], axis = 1)\n",
    "\n",
    "label = list(label)\n",
    "count = 0\n",
    "for i in label:\n",
    "    \n",
    "    if 'negative' in i:\n",
    "        label[count] = '0'\n",
    "    else:\n",
    "        label[count] = '1'\n",
    "    \n",
    "    count+=1\n",
    "    \n",
    "headers = list()\n",
    "for i in range(20):\n",
    "    headers.append(i+1)\n",
    "    \n",
    "df.columns = headers\n",
    "df['Labels'] = label"
   ]
  },
  {
   "cell_type": "code",
   "execution_count": 17,
   "metadata": {},
   "outputs": [],
   "source": [
    "target = df['Labels']\n",
    "df = df.drop(['Labels'], axis = 1)"
   ]
  },
  {
   "cell_type": "code",
   "execution_count": 18,
   "metadata": {},
   "outputs": [
    {
     "data": {
      "image/png": "[encoded data removed]",
      "text/plain": [
       "<Figure size 432x288 with 2 Axes>"
      ]
     },
     "metadata": {
      "needs_background": "light"
     },
     "output_type": "display_data"
    }
   ],
   "source": [
    "correlation = df.corr()\n",
    "fig = plt.figure()\n",
    "ax = fig.add_subplot(111)\n",
    "cax = ax.matshow(correlation ,cmap='coolwarm', vmin=-1, vmax=1)\n",
    "fig.colorbar(cax)\n",
    "ticks = np.arange(0,len(df.columns),1)\n",
    "ax.set_xticks(ticks)\n",
    "plt.xticks(rotation=90)\n",
    "ax.set_yticks(ticks)\n",
    "ax.set_xticklabels(df.columns)\n",
    "ax.set_yticklabels(df.columns)\n",
    "plt.show()"
   ]
  },
  {
   "cell_type": "code",
   "execution_count": 19,
   "metadata": {},
   "outputs": [
    {
     "name": "stdout",
     "output_type": "stream",
     "text": [
      "KNN accuracy = 84.68\n",
      "SVC accuracy = 72.63\n",
      "DecisionTree accuracy = 77.05\n",
      "RandomForest accuracy = 80.99\n",
      "GaussianNB accuracy = 82.49\n",
      "MultinomialNB accuracy = 72.63\n",
      "BernoulliNB accuracy = 69.42\n",
      "LogisticRegression accuracy = 72.63\n"
     ]
    }
   ],
   "source": [
    "count = 0\n",
    "for classifier in list_classifiers:\n",
    "\n",
    "    acc_total = 0\n",
    "    \n",
    "    for train_index, test_index in kf.split(df):\n",
    "    \n",
    "        X_train = df.values[train_index]\n",
    "        Y_train = target[train_index]\n",
    "    \n",
    "        X_test = df.values[test_index]\n",
    "        Y_test = target[test_index]\n",
    "    \n",
    "        model_svm = classifier.fit(X_train,Y_train)\n",
    "    \n",
    "        predictions = model_svm.predict(X_test)\n",
    "    \n",
    "        acc = 100*accuracy_score(Y_test,predictions)\n",
    "    \n",
    "        acc_total = acc_total + acc\n",
    "    \n",
    "    print('{} accuracy = {}'.format(name_classifiers[count], np.round(acc_total/10, 2)))\n",
    "    count += 1"
   ]
  },
  {
   "cell_type": "markdown",
   "metadata": {},
   "source": [
    "# 5. Feature Extraction Technique: TPC"
   ]
  },
  {
   "cell_type": "code",
   "execution_count": 20,
   "metadata": {},
   "outputs": [],
   "source": [
    "df = pd.read_csv('data_tpc.csv')"
   ]
  },
  {
   "cell_type": "code",
   "execution_count": 21,
   "metadata": {},
   "outputs": [],
   "source": [
    "label = df['positive|P02647|APO']\n",
    "\n",
    "df = df.drop(['positive|P02647|APO'], axis = 1)\n",
    "\n",
    "label = list(label)\n",
    "count = 0\n",
    "for i in label:\n",
    "    \n",
    "    if 'negative' in i:\n",
    "        label[count] = '0'\n",
    "    else:\n",
    "        label[count] = '1'\n",
    "    \n",
    "    count+=1\n",
    "    \n",
    "headers = list()\n",
    "for i in range(254):\n",
    "    headers.append(i+1)\n",
    "    \n",
    "df.columns = headers\n",
    "df['Labels'] = label"
   ]
  },
  {
   "cell_type": "code",
   "execution_count": 22,
   "metadata": {},
   "outputs": [],
   "source": [
    "target = df['Labels']\n",
    "df = df.drop(['Labels'], axis = 1)"
   ]
  },
  {
   "cell_type": "code",
   "execution_count": 23,
   "metadata": {},
   "outputs": [
    {
     "name": "stdout",
     "output_type": "stream",
     "text": [
      "KNN accuracy = 72.11\n",
      "SVC accuracy = 72.63\n",
      "DecisionTree accuracy = 65.99\n",
      "RandomForest accuracy = 74.21\n",
      "GaussianNB accuracy = 50.0\n",
      "MultinomialNB accuracy = 72.63\n",
      "BernoulliNB accuracy = 78.92\n",
      "LogisticRegression accuracy = 72.63\n"
     ]
    }
   ],
   "source": [
    "count = 0\n",
    "\n",
    "for i in list_classifiers:\n",
    "    \n",
    "    clf=i\n",
    "    acc_total = 0\n",
    "    \n",
    "    for train_index, test_index in kf.split(df):\n",
    "    \n",
    "        X_train = df.values[train_index]\n",
    "        Y_train = target[train_index]\n",
    "    \n",
    "        X_test = df.values[test_index]\n",
    "        Y_test = target[test_index]\n",
    "    \n",
    "        model_svm = clf.fit(X_train,Y_train)\n",
    "    \n",
    "        predictions = model_svm.predict(X_test)\n",
    "    \n",
    "        acc = 100*accuracy_score(Y_test,predictions)\n",
    "    \n",
    "    \n",
    "        acc_total = acc_total + acc\n",
    "    \n",
    "    print('{} accuracy = {}'.format(name_classifiers[count], np.round(acc_total/10, 2)))\n",
    "    count += 1"
   ]
  },
  {
   "cell_type": "markdown",
   "metadata": {},
   "source": [
    "#  6. Feature Extraction Technique: DPC"
   ]
  },
  {
   "cell_type": "code",
   "execution_count": 24,
   "metadata": {},
   "outputs": [],
   "source": [
    "df = pd.read_csv('data_dpc.csv')"
   ]
  },
  {
   "cell_type": "code",
   "execution_count": 25,
   "metadata": {},
   "outputs": [],
   "source": [
    "label = df['positive|P02647|APO']\n",
    "\n",
    "df = df.drop(['positive|P02647|APO'], axis = 1)\n",
    "\n",
    "label = list(label)\n",
    "count = 0\n",
    "for i in label:\n",
    "    \n",
    "    if 'negative' in i:\n",
    "        label[count] = '0'\n",
    "    else:\n",
    "        label[count] = '1'\n",
    "    \n",
    "    count+=1\n",
    "    \n",
    "headers = list()\n",
    "for i in range(400):\n",
    "    headers.append(i+1)\n",
    "    \n",
    "df.columns = headers\n",
    "df['Labels'] = label"
   ]
  },
  {
   "cell_type": "code",
   "execution_count": 26,
   "metadata": {},
   "outputs": [],
   "source": [
    "target = df['Labels']\n",
    "df = df.drop(['Labels'], axis = 1)"
   ]
  },
  {
   "cell_type": "code",
   "execution_count": 27,
   "metadata": {},
   "outputs": [
    {
     "name": "stdout",
     "output_type": "stream",
     "text": [
      "KNN accuracy = 84.74\n",
      "SVC accuracy = 72.63\n",
      "DecisionTree accuracy = 73.42\n",
      "RandomForest accuracy = 75.23\n",
      "GaussianNB accuracy = 82.54\n",
      "MultinomialNB accuracy = 72.63\n",
      "BernoulliNB accuracy = 82.05\n",
      "LogisticRegression accuracy = 72.63\n"
     ]
    }
   ],
   "source": [
    "count = 0\n",
    "\n",
    "for i in list_classifiers:\n",
    "    \n",
    "    clf=i\n",
    "    acc_total = 0\n",
    "    \n",
    "    for train_index, test_index in kf.split(df):\n",
    "    \n",
    "        X_train = df.values[train_index]\n",
    "        Y_train = target[train_index]\n",
    "    \n",
    "        X_test = df.values[test_index]\n",
    "        Y_test = target[test_index]\n",
    "    \n",
    "        model_svm = clf.fit(X_train,Y_train)\n",
    "    \n",
    "        predictions = model_svm.predict(X_test)\n",
    "    \n",
    "        acc = 100*accuracy_score(Y_test,predictions)\n",
    "    \n",
    "    \n",
    "        acc_total = acc_total + acc\n",
    "    \n",
    "    print('{} accuracy = {}'.format(name_classifiers[count], np.round(acc_total/10, 2)))\n",
    "    count += 1"
   ]
  },
  {
   "cell_type": "code",
   "execution_count": null,
   "metadata": {},
   "outputs": [],
   "source": []
  }
 ],
 "metadata": {
  "kernelspec": {
   "display_name": "Python 3",
   "language": "python",
   "name": "python3"
  },
  "language_info": {
   "codemirror_mode": {
    "name": "ipython",
    "version": 3
   },
   "file_extension": ".py",
   "mimetype": "text/x-python",
   "name": "python",
   "nbconvert_exporter": "python",
   "pygments_lexer": "ipython3",
   "version": "3.6.8"
  }
 },
 "nbformat": 4,
 "nbformat_minor": 2
}
